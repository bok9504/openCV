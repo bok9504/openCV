{
 "cells": [
  {
   "cell_type": "code",
   "execution_count": 1,
   "metadata": {},
   "outputs": [],
   "source": [
    "import numpy as np\n",
    "import cv2"
   ]
  },
  {
   "cell_type": "code",
   "execution_count": 6,
   "metadata": {},
   "outputs": [
    {
     "name": "stdout",
     "output_type": "stream",
     "text": [
      "카메라를 구동합니다.\n",
      "카메라 구동을 종료합니다.\n"
     ]
    }
   ],
   "source": [
    "# 카메라를 구동하여 흑백으로 표출해주는 함수\n",
    "\n",
    "def showVideo():\n",
    "    try:\n",
    "        print('카메라를 구동합니다.')\n",
    "        cap = cv2.VideoCapture(0) # VideoCapture 객체 생성 -> 구동할 장치 번호 입력(캠이 하나임으로 0번)\n",
    "    except:                      # 만약 캠구동이 아니라 저장된 파일을 재생하기 원할 시, 경로와 파일이름 입력\n",
    "        print('카메라 구동 실패')\n",
    "        return\n",
    "    \n",
    "    cap.set(3, 480) # 프레임 크기 설정\n",
    "    cap.set(4, 320)\n",
    "    \n",
    "    while True:\n",
    "        ret, frame = cap.read() # 재생되는 비디오를 한 프레임씩 읽기 \n",
    "                                # 제대로 읽을 시에 ret : True or False, frame : 읽은 프레임\n",
    "        if not ret:\n",
    "            print('비디오 읽기 오류')\n",
    "            break\n",
    "        \n",
    "        gray = cv2.cvtColor(frame, cv2.COLOR_BGR2GRAY) # frame을 흑백으로 변환\n",
    "        cv2.imshow('video', gray) # 변환한 프레임을 화면에 디스플레이\n",
    "        \n",
    "        k = cv2.waitKey(1) & 0xFF\n",
    "        if k == 27:\n",
    "            print('카메라 구동을 종료합니다.')\n",
    "            break\n",
    "    \n",
    "    cap.release() # 오픈한 cap 객체 해제 **** 필수 ****\n",
    "    cv2.destroyAllWindows() # 윈도우 창 답기\n",
    "    \n",
    "showVideo()"
   ]
  },
  {
   "cell_type": "code",
   "execution_count": 16,
   "metadata": {},
   "outputs": [
    {
     "name": "stdout",
     "output_type": "stream",
     "text": [
      "카메라를 구동합니다.\n",
      "녹화를 시작합니다.\n",
      "녹화를 종료합니다.\n"
     ]
    }
   ],
   "source": [
    "# 캠을 활용하여 비디오를 녹화, 저장하는 함수\n",
    "\n",
    "def writeVideo():\n",
    "    try:\n",
    "        print('카메라를 구동합니다.')\n",
    "        cap = cv2.VideoCapture(0)\n",
    "    except:\n",
    "        print('카메라 구동 실패')\n",
    "        return\n",
    "    \n",
    "    fps = 20.0 # 비디오 저장을 위한 초당 프레임 수\n",
    "    width = int(cap.get(3)) # 원본크기 그대로 width, height 저장\n",
    "    height = int(cap.get(4))\n",
    "    fcc = cv2.VideoWriter_fourcc('D', 'I', 'V', 'X') # DIVX 코덱 적용, 다른 코덱도 적용 가능\n",
    "                                                     # ex) XVID, MJPG, X264, WMV1, WMV2\n",
    "    out = cv2.VideoWriter('video/2.비디오_reading&writing.avi', fcc, fps, (width, height)) # 비디오 저장을 위한 객체 생성\n",
    "    print('녹화를 시작합니다.')\n",
    "    \n",
    "    while True:\n",
    "        ret, frame = cap.read()\n",
    "        frame = cv2.flip(frame, 1) # 비디오 방향 반전 0: 상하반전, 1: 좌우 반전\n",
    "        \n",
    "        if not ret:\n",
    "            print('비디오 읽기 오류')\n",
    "            break\n",
    "            \n",
    "        cv2.imshow('video', frame) # 화면에 읽어온 프레임 디스플레이\n",
    "        out.write(frame) # out 객체에 프레임 저장\n",
    "        \n",
    "        k = cv2.waitKey(1) & 0xFF\n",
    "        if k == 27:\n",
    "            print('녹화를 종료합니다.')\n",
    "            break\n",
    "        \n",
    "    cap.release()\n",
    "    out.release()\n",
    "    cv2.destroyAllWindows()\n",
    "    \n",
    "writeVideo()"
   ]
  },
  {
   "cell_type": "code",
   "execution_count": null,
   "metadata": {},
   "outputs": [],
   "source": []
  }
 ],
 "metadata": {
  "kernelspec": {
   "display_name": "Python 3",
   "language": "python",
   "name": "python3"
  },
  "language_info": {
   "codemirror_mode": {
    "name": "ipython",
    "version": 3
   },
   "file_extension": ".py",
   "mimetype": "text/x-python",
   "name": "python",
   "nbconvert_exporter": "python",
   "pygments_lexer": "ipython3",
   "version": "3.6.12"
  }
 },
 "nbformat": 4,
 "nbformat_minor": 4
}
