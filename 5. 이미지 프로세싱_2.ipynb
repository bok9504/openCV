{
 "cells": [
  {
   "cell_type": "markdown",
   "metadata": {},
   "source": [
    "# 1. 색공간 변경\n",
    "## 1) BGR2HSV"
   ]
  },
  {
   "cell_type": "markdown",
   "metadata": {},
   "source": [
    "![image](images/HSV.png)"
   ]
  },
  {
   "cell_type": "markdown",
   "metadata": {},
   "source": [
    "### 색상, 채도, 진하기 각각 변화에 따른 값을 추출하기 위해 HSV 사용\n",
    "#### - Hue(색상) : 원주 방향 각도 [0, 179]\n",
    "#### - Saturation(채도) : 원의 중심에서 바깥으로 변화 [0, 255]\n",
    "#### - Value(진하기) : 원기둥 바닥에서 위쪽으로 변화 [0, 255]"
   ]
  },
  {
   "cell_type": "code",
   "execution_count": 49,
   "metadata": {},
   "outputs": [],
   "source": [
    "import numpy as np\n",
    "import cv2\n",
    "import matplotlib.pyplot as plt"
   ]
  },
  {
   "cell_type": "code",
   "execution_count": 3,
   "metadata": {},
   "outputs": [
    {
     "name": "stdout",
     "output_type": "stream",
     "text": [
      "HSV for Blue :  [[[120 255 255]]]\n",
      "HSV for Green :  [[[ 60 255 255]]]\n",
      "HSV for Red :  [[[  0 255 255]]]\n"
     ]
    }
   ],
   "source": [
    "# BGR를 hsv로 바꾸어주는 함수\n",
    "# 밑의 예제는 색깔만 바뀌기 때문에 채도와 진하기는 변함없이 255 임을 확인\n",
    "\n",
    "def hsv():\n",
    "    blue = np.uint8([[[255, 0, 0]]])\n",
    "    green = np.uint8([[[0, 255, 0]]])\n",
    "    red = np.uint8([[[0, 0, 255]]])\n",
    "    \n",
    "    hsv_blue = cv2.cvtColor(blue, cv2.COLOR_BGR2HSV) # 컬러 변환 코드(뒤에 어떤 매개변수를 붙이느냐에 따라 변함)\n",
    "    hsv_green = cv2.cvtColor(green, cv2.COLOR_BGR2HSV)\n",
    "    hsv_red = cv2.cvtColor(red, cv2.COLOR_BGR2HSV)\n",
    "    \n",
    "    print('HSV for Blue : ', hsv_blue)\n",
    "    print('HSV for Green : ', hsv_green)\n",
    "    print('HSV for Red : ', hsv_red)\n",
    "    \n",
    "hsv()"
   ]
  },
  {
   "cell_type": "code",
   "execution_count": 5,
   "metadata": {},
   "outputs": [
    {
     "name": "stdout",
     "output_type": "stream",
     "text": [
      "카메라를 구동합니다.\n"
     ]
    }
   ],
   "source": [
    "def tracking():\n",
    "    try:\n",
    "        print('카메라를 구동합니다.')\n",
    "        cap = cv2.VideoCapture(0)\n",
    "    except:\n",
    "        print('카메라 구동 실패')\n",
    "        return\n",
    "    \n",
    "    while True:\n",
    "        ret, frame = cap.read()\n",
    "        \n",
    "        # BGR을 HSV모드로 전환\n",
    "        hsv = cv2.cvtColor(frame, cv2.COLOR_BGR2HSV)\n",
    "        \n",
    "        # HSV에서 BGR로 가정할 범위를 정의\n",
    "        lower_blue = np.array([110, 100, 100])\n",
    "        upper_blue = np.array([130, 255, 255])\n",
    "        \n",
    "        lower_green = np.array([50, 100, 100])\n",
    "        upper_green = np.array([70, 255, 255])\n",
    "        \n",
    "        lower_red = np.array([-10, 100, 100])\n",
    "        upper_red = np.array([10, 255, 255])\n",
    "        \n",
    "        # HSV 이미지에서 청색, 초록, 빨강만 추출하기 위한 임계값\n",
    "        mask_blue = cv2.inRange(hsv, lower_blue, upper_blue) # 임계값 범위에 해당하는 값은 그대로, 나머지는 0으로 반환\n",
    "        mask_green = cv2.inRange(hsv, lower_green, upper_green) # -> 소스, 아래임계값, 위임계값\n",
    "        mask_red = cv2.inRange(hsv, lower_red, upper_red)\n",
    "        \n",
    "        # mask와 원본 이미지를 비트 연산\n",
    "        res1 = cv2.bitwise_and(frame, frame, mask=mask_blue)\n",
    "        res2 = cv2.bitwise_and(frame, frame, mask=mask_green)\n",
    "        res3 = cv2.bitwise_and(frame, frame, mask=mask_red)\n",
    "        \n",
    "        cv2.imshow('original', frame)\n",
    "        cv2.imshow('BLUE', res1)\n",
    "        cv2.imshow('GREEN', res2)\n",
    "        cv2.imshow('RED', res3)\n",
    "        \n",
    "        k = cv2.waitKey(1) & 0xFF\n",
    "        if k == 27:\n",
    "            break\n",
    "            \n",
    "    cv2.destroyAllWindows()\n",
    "    \n",
    "tracking()"
   ]
  },
  {
   "cell_type": "markdown",
   "metadata": {},
   "source": [
    "# 2. 이미지 Thresholding"
   ]
  },
  {
   "cell_type": "code",
   "execution_count": 6,
   "metadata": {},
   "outputs": [],
   "source": [
    "img = cv2.imread('images/model.png', cv2.IMREAD_GRAYSCALE) # Threshold 적용을 위해서는 Grayscale 이미지 필요\n",
    "\n",
    "# 이미지, 픽셀 문턱값, 문턱값보다 클때 적용되는 최대값, 적용스타일\n",
    "ret, thr1 = cv2.threshold(img, 127, 255, cv2.THRESH_BINARY) # 문턱보다 밝은 색상을 value로, 나머지를 검정\n",
    "ret, thr2 = cv2.threshold(img, 127, 255, cv2.THRESH_BINARY_INV) # 문턱보다 어두운 색상을 value로, 나머지를 검정\n",
    "ret, thr3 = cv2.threshold(img, 127, 255, cv2.THRESH_TRUNC) # 문턱보다 밝으면 문턱값으로, 나머지는 그대로\n",
    "ret, thr4 = cv2.threshold(img, 127, 255, cv2.THRESH_TOZERO) # 문턱보다 밝으면 그대로, 나머지는 검정\n",
    "ret, thr5 = cv2.threshold(img, 127, 255, cv2.THRESH_TOZERO_INV) # 문턱보다 어두우면 그대로, 나머지는 검정\n",
    "\n",
    "cv2.imshow('original', img)\n",
    "cv2.imshow('BINARY', thr1)\n",
    "cv2.imshow('BINARY_INV', thr2)\n",
    "cv2.imshow('TRUNC', thr3)\n",
    "cv2.imshow('TOZERO', thr4)\n",
    "cv2.imshow('TOZERO_INV', thr5)\n",
    "\n",
    "cv2.waitKey(0)\n",
    "cv2.destroyAllWindows()"
   ]
  },
  {
   "cell_type": "code",
   "execution_count": 12,
   "metadata": {},
   "outputs": [],
   "source": [
    "# 하나의 문턱값만 사용하는 threshold는 경우에 효과적이지 못함 (노이즈가 많음)\n",
    "# 이에 따라 이미지의 영역에 따른 서로 다른 문턱값을 사용하는 adaptiveThreshold를 사용\n",
    "\n",
    "def thresholding():\n",
    "    img = cv2.imread('images/model.png', cv2.IMREAD_GRAYSCALE)\n",
    "    \n",
    "    ret, thr1 = cv2.threshold(img, 127, 255, cv2.THRESH_BINARY)\n",
    "    thr2 = cv2.adaptiveThreshold(img, 255, cv2.ADAPTIVE_THRESH_MEAN_C, cv2.THRESH_BINARY, 11, 2)\n",
    "    thr3 = cv2.adaptiveThreshold(img, 255, cv2.ADAPTIVE_THRESH_GAUSSIAN_C, cv2.THRESH_BINARY, 11, 2)\n",
    "    # Grayscale 이미지, 문턱값을 넘을시 적용될 값, Adaptive Thresholding 알고리즘, thresholdType, 문턱값 계산할 블록사이즈, 보정상수\n",
    "    \n",
    "    titles = ['original', 'Global Thresholding(v=127)', 'Adaptive MEAN', 'Adaptive GAUSSIAN']\n",
    "    images = [img, thr1, thr2, thr3]\n",
    "    \n",
    "    for i in range(4):\n",
    "        cv2.imshow(titles[i], images[i])\n",
    "        \n",
    "    cv2.waitKey(0)\n",
    "    cv2.destroyAllWindows()\n",
    "    \n",
    "thresholding()"
   ]
  },
  {
   "cell_type": "code",
   "execution_count": 68,
   "metadata": {},
   "outputs": [],
   "source": [
    "# 노이즈가 최소인 이미지를 생성하기 위해서는 두 이미지 히스토그램의 봉우리 중 최소값을 취하면 됨\n",
    "# 이런 알고리즘을 구현해주는 알고리즘이 Otsu's Binarization\n",
    "\n",
    "def thresholding():\n",
    "    img = cv2.imread('images/model.png', cv2.IMREAD_GRAYSCALE)\n",
    "    \n",
    "    # 전역 thresholding 적용\n",
    "    ret, thr1 = cv2.threshold(img, 127, 255, cv2.THRESH_BINARY)\n",
    "    \n",
    "    # Otsu Binarization\n",
    "    ret, thr2 = cv2.threshold(img, 0, 255, cv2.THRESH_BINARY+cv2.THRESH_OTSU)\n",
    "    \n",
    "    # GAUSSIAN 블러 적용 후 Otsu Binarization\n",
    "    blur = cv2.GaussianBlur(img, (5,5), 0)\n",
    "    ret, thr3 = cv2.threshold(blur, 0, 255, cv2.THRESH_BINARY+cv2.THRESH_OTSU)\n",
    "    \n",
    "    titles = ['original noisy', 'G-Thresholding', 'Otsu Thresholding without Gaussian', 'Gaussian-filtered', 'Otsu Thresholding']\n",
    "    images = [img, thr1, thr2, blur, thr3]\n",
    "    \n",
    "    for i in range(5):\n",
    "        cv2.imshow(titles[i], images[i])\n",
    "    \n",
    "    cv2.waitKey(0)\n",
    "    cv2.destroyAllWindows()\n",
    "\n",
    "thresholding()"
   ]
  },
  {
   "cell_type": "code",
   "execution_count": null,
   "metadata": {},
   "outputs": [],
   "source": []
  }
 ],
 "metadata": {
  "kernelspec": {
   "display_name": "Python 3",
   "language": "python",
   "name": "python3"
  },
  "language_info": {
   "codemirror_mode": {
    "name": "ipython",
    "version": 3
   },
   "file_extension": ".py",
   "mimetype": "text/x-python",
   "name": "python",
   "nbconvert_exporter": "python",
   "pygments_lexer": "ipython3",
   "version": "3.6.12"
  }
 },
 "nbformat": 4,
 "nbformat_minor": 4
}
