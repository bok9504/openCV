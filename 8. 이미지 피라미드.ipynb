{
 "cells": [
  {
   "cell_type": "markdown",
   "metadata": {},
   "source": [
    "# 이미지 피라미드"
   ]
  },
  {
   "cell_type": "markdown",
   "metadata": {},
   "source": [
    "## 가우시안 피라미드"
   ]
  },
  {
   "cell_type": "code",
   "execution_count": 1,
   "metadata": {
    "ExecuteTime": {
     "end_time": "2020-10-30T05:06:17.153418Z",
     "start_time": "2020-10-30T05:06:17.102421Z"
    }
   },
   "outputs": [],
   "source": [
    "import numpy as np\n",
    "import cv2"
   ]
  },
  {
   "cell_type": "markdown",
   "metadata": {},
   "source": [
    "### 다운 샘플링"
   ]
  },
  {
   "cell_type": "code",
   "execution_count": 4,
   "metadata": {
    "ExecuteTime": {
     "end_time": "2020-10-30T05:10:34.669458Z",
     "start_time": "2020-10-30T05:10:26.040455Z"
    }
   },
   "outputs": [],
   "source": [
    "def pyramid():\n",
    "    img = cv2.imread('images/model.png', cv2.IMREAD_GRAYSCALE)\n",
    "    tmp = img.copy()\n",
    "    \n",
    "    win_titles = ['org', 'level1', 'level2', 'level3']\n",
    "    g_down = []\n",
    "    g_down.append(tmp)\n",
    "    \n",
    "    for i in range(3):\n",
    "        tmp1 = cv2.pyrDown(tmp)\n",
    "        g_down.append(tmp1)\n",
    "        tmp = tmp1\n",
    "        \n",
    "    for i in range(4):\n",
    "        cv2.imshow(win_titles[i], g_down[i])\n",
    "        \n",
    "    cv2.waitKey(0)\n",
    "    cv2.destroyAllWindows()\n",
    "    \n",
    "pyramid()"
   ]
  },
  {
   "cell_type": "markdown",
   "metadata": {},
   "source": [
    "### 업 샘플링"
   ]
  },
  {
   "cell_type": "code",
   "execution_count": 5,
   "metadata": {
    "ExecuteTime": {
     "end_time": "2020-10-30T05:17:24.042915Z",
     "start_time": "2020-10-30T05:15:27.953417Z"
    }
   },
   "outputs": [],
   "source": [
    "def pyramid():\n",
    "    img = cv2.imread('images/model.png', cv2.IMREAD_GRAYSCALE)\n",
    "    tmp = img.copy()\n",
    "    \n",
    "    win_titles = ['org', 'level1', 'level2', 'level3']\n",
    "    g_down = []\n",
    "    g_up = []\n",
    "    \n",
    "    g_down.append(tmp)\n",
    "    \n",
    "    for i in range(3):\n",
    "        tmp1 = cv2.pyrDown(tmp)\n",
    "        g_down.append(tmp1)\n",
    "        tmp = tmp1\n",
    "        \n",
    "    cv2.imshow('level3', tmp)\n",
    "    \n",
    "    for i in range(3):\n",
    "        tmp = g_down[i+1]\n",
    "        tmp1 = cv2.pyrUp(tmp)\n",
    "        g_up.append(tmp1)\n",
    "        \n",
    "    for i in range(3):\n",
    "        cv2.imshow(win_titles[i], g_up[i])\n",
    "        \n",
    "    cv2.waitKey(0)\n",
    "    cv2.destroyAllWindows()\n",
    "    \n",
    "pyramid()"
   ]
  },
  {
   "cell_type": "markdown",
   "metadata": {},
   "source": [
    "## 라플라시안 피라미드"
   ]
  },
  {
   "cell_type": "code",
   "execution_count": null,
   "metadata": {},
   "outputs": [],
   "source": []
  }
 ],
 "metadata": {
  "kernelspec": {
   "display_name": "Python 3",
   "language": "python",
   "name": "python3"
  },
  "language_info": {
   "codemirror_mode": {
    "name": "ipython",
    "version": 3
   },
   "file_extension": ".py",
   "mimetype": "text/x-python",
   "name": "python",
   "nbconvert_exporter": "python",
   "pygments_lexer": "ipython3",
   "version": "3.6.12"
  },
  "toc": {
   "base_numbering": 1,
   "nav_menu": {},
   "number_sections": true,
   "sideBar": true,
   "skip_h1_title": false,
   "title_cell": "Table of Contents",
   "title_sidebar": "Contents",
   "toc_cell": false,
   "toc_position": {},
   "toc_section_display": true,
   "toc_window_display": false
  },
  "varInspector": {
   "cols": {
    "lenName": 16,
    "lenType": 16,
    "lenVar": 40
   },
   "kernels_config": {
    "python": {
     "delete_cmd_postfix": "",
     "delete_cmd_prefix": "del ",
     "library": "var_list.py",
     "varRefreshCmd": "print(var_dic_list())"
    },
    "r": {
     "delete_cmd_postfix": ") ",
     "delete_cmd_prefix": "rm(",
     "library": "var_list.r",
     "varRefreshCmd": "cat(var_dic_list()) "
    }
   },
   "types_to_exclude": [
    "module",
    "function",
    "builtin_function_or_method",
    "instance",
    "_Feature"
   ],
   "window_display": false
  }
 },
 "nbformat": 4,
 "nbformat_minor": 4
}
