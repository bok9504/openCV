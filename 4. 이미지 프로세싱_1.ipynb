{
 "cells": [
  {
   "cell_type": "markdown",
   "metadata": {},
   "source": [
    "## 1) 이미지 픽셀 조작 및 ROI 조작"
   ]
  },
  {
   "cell_type": "code",
   "execution_count": 2,
   "metadata": {},
   "outputs": [],
   "source": [
    "import numpy as np\n",
    "import cv2\n",
    "\n",
    "img = cv2.imread('images/model.png')"
   ]
  },
  {
   "cell_type": "code",
   "execution_count": 7,
   "metadata": {},
   "outputs": [
    {
     "name": "stdout",
     "output_type": "stream",
     "text": [
      "[110, 128, 151]\n"
     ]
    }
   ],
   "source": [
    "# 이미지의 340, 200 위치 RGB 값 받기\n",
    "\n",
    "B = img.item(340, 200, 0)\n",
    "G = img.item(340, 200, 1)\n",
    "R = img.item(340, 200, 2)\n",
    "\n",
    "BGR = [B, G, R]\n",
    "print(BGR)"
   ]
  },
  {
   "cell_type": "code",
   "execution_count": 8,
   "metadata": {},
   "outputs": [
    {
     "name": "stdout",
     "output_type": "stream",
     "text": [
      "(380, 600, 3)\n",
      "684000\n",
      "uint8\n"
     ]
    }
   ],
   "source": [
    "# 이미지 속성 얻기\n",
    "\n",
    "print(img.shape) # 이미지 해상도 및 컬러 채널\n",
    "print(img.size) # 이미지 사이즈(바이트)\n",
    "print(img.dtype) # 이미지 데이터 타입"
   ]
  },
  {
   "cell_type": "code",
   "execution_count": 17,
   "metadata": {},
   "outputs": [
    {
     "name": "stdout",
     "output_type": "stream",
     "text": [
      "(380, 600, 3)\n",
      "(170, 100, 3)\n"
     ]
    }
   ],
   "source": [
    "# 이미지 ROI 설정\n",
    "\n",
    "img_ROI = cv2.imread('images/model.png')\n",
    "cv2.imshow('original', img)\n",
    "\n",
    "subimg = img_ROI[80:250, 210:310] # 이미지 자를 범위 선택\n",
    "cv2.imshow('cutting', subimg)\n",
    "\n",
    "img_ROI[80:250, 0:100] = subimg # 자른 이미지를 원본 이미지에 대입\n",
    "\n",
    "print(img_ROI.shape)\n",
    "print(subimg.shape)\n",
    "\n",
    "cv2.imshow('modified', img_ROI)\n",
    "\n",
    "cv2.waitKey(0)\n",
    "cv2.destroyAllWindows()"
   ]
  },
  {
   "cell_type": "code",
   "execution_count": 25,
   "metadata": {},
   "outputs": [
    {
     "name": "stdout",
     "output_type": "stream",
     "text": [
      "[ 98 109 113]\n",
      "98 109 113\n"
     ]
    }
   ],
   "source": [
    "# 이미지 채널 분할 및 합치기\n",
    "\n",
    "b, g, r = cv2.split(img)\n",
    "# 다시 합칠경우 : cv2.merge((b,g,r))\n",
    "\n",
    "print(img[100, 100])\n",
    "print(b[100, 100], g[100, 100], r[100, 100])\n",
    "\n",
    "cv2.imshow('blue channel', b)\n",
    "cv2.imshow('green channel', g)\n",
    "cv2.imshow('red channel', r)\n",
    "\n",
    "cv2.waitKey(0)\n",
    "cv2.destroyAllWindows()"
   ]
  },
  {
   "cell_type": "code",
   "execution_count": 26,
   "metadata": {},
   "outputs": [],
   "source": [
    "# split 기능이 아닌 인덱스 사용하기\n",
    "\n",
    "b = img[:, :, 0]\n",
    "g = img[:, :, 1]\n",
    "r = img[:, :, 2]\n",
    "\n",
    "cv2.imshow('blue channel', b)\n",
    "cv2.imshow('green channel', g)\n",
    "cv2.imshow('red channel', r)\n",
    "\n",
    "cv2.waitKey(0)\n",
    "cv2.destroyAllWindows()"
   ]
  },
  {
   "cell_type": "markdown",
   "metadata": {},
   "source": [
    "## 2) 이미지 연산처리 및 이미지 합성"
   ]
  },
  {
   "cell_type": "code",
   "execution_count": 4,
   "metadata": {},
   "outputs": [],
   "source": [
    "# 이미지 합성\n",
    "\n",
    "def addImage(imgfile1, imgfile2):\n",
    "    img1 = cv2.imread(imgfile1)\n",
    "    img2 = cv2.imread(imgfile2)\n",
    "    \n",
    "    cv2.imshow('img1', img1)\n",
    "    cv2.imshow('img2', img2)\n",
    "    \n",
    "    add_img1 = img1 + img2\n",
    "    add_img2 = cv2.add(img1, img2)\n",
    "    \n",
    "    cv2.imshow('img1 + img2', add_img1) # rgb 값이 255가 넘어가면 나머지값을 사용\n",
    "    cv2.imshow('add(img1, img2)', add_img2) # rgb 값이 255가 넘어가면 255로 보존\n",
    "    \n",
    "    cv2.waitKey(0)\n",
    "    cv2.destroyAllWindows()\n",
    "    \n",
    "addImage('images/movie_image.jpg', 'images/movie_image1.jpg')"
   ]
  },
  {
   "cell_type": "code",
   "execution_count": 7,
   "metadata": {},
   "outputs": [],
   "source": [
    "# 이미지 블랜딩\n",
    "\n",
    "def onMouse(x):\n",
    "    pass\n",
    "\n",
    "def imgBlending(imgfile1, imgfile2):\n",
    "    img1 = cv2.imread(imgfile1)\n",
    "    img2 = cv2.imread(imgfile2)\n",
    "    \n",
    "    cv2.namedWindow('ImgPane')\n",
    "    cv2.createTrackbar('MIXING', 'ImgPane', 0, 100, onMouse)\n",
    "    mix = cv2.getTrackbarPos('MIXING', 'ImgPane') # mix 에 트랙바의 위치값 입력\n",
    "    \n",
    "    while True:\n",
    "        img = cv2.addWeighted(img1, float(100-mix)/100, img2, float(mix)/100, 0)\n",
    "        cv2.imshow('ImgPane', img)\n",
    "        \n",
    "        k = cv2.waitKey(1) & 0xFF\n",
    "        if k == 27:\n",
    "            break\n",
    "            \n",
    "        mix = cv2.getTrackbarPos('MIXING', 'ImgPane')\n",
    "        \n",
    "    cv2.destroyAllWindows()\n",
    "    \n",
    "imgBlending('images/movie_image.jpg', 'images/movie_image1.jpg')"
   ]
  },
  {
   "cell_type": "code",
   "execution_count": 23,
   "metadata": {},
   "outputs": [],
   "source": [
    "# 이미지에 로고 삽입\n",
    "\n",
    "def bitOperation(hpos, vpos):\n",
    "    img1 = cv2.imread('images/model.png')\n",
    "    img2 = cv2.imread('images/openCV.png')\n",
    "    \n",
    "    # 로고 영역 지정\n",
    "    rows, cols, channels = img2.shape\n",
    "    roi = img1[vpos:rows+vpos, hpos:cols+hpos]\n",
    "    \n",
    "    # 마스크 및 역마스크 생성\n",
    "    img2gray = cv2.cvtColor(img2, cv2.COLOR_BGR2GRAY) # 흑백 사진으로 변환\n",
    "    ret, mask = cv2.threshold(img2gray, 10, 255, cv2.THRESH_BINARY) # 마스크 생성\n",
    "    mask_inv = cv2.bitwise_not(mask) # 역마스크 생성\n",
    "    print(mask)\n",
    "    print(mask_inv)\n",
    "    \n",
    "    # ROI에서 로고에 해당하는 부분만 검정색으로 만들기\n",
    "    img1_bg = cv2.bitwise_and(roi, roi, mask=mask_inv)\n",
    "    \n",
    "    # 로고 이미지에서 로고 부분만 추출하기\n",
    "    img2_fg = cv2.bitwise_and(img2, img2, mask=mask)\n",
    "    \n",
    "    # 로고 이미지 배경을 cv2.add로 투명으로 만들고 ROI에 로고 이미지 넣기\n",
    "    dst = cv2.add(img1_bg, img2_fg)\n",
    "    img1[vpos:rows+vpos, hpos:cols+hpos] = dst\n",
    "    \n",
    "    cv2.imshow('result', img1)\n",
    "    cv2.waitKey(0)\n",
    "    cv2.destroyAllWindows()\n",
    "    \n",
    "bitOperation(0, 0)"
   ]
  },
  {
   "cell_type": "code",
   "execution_count": null,
   "metadata": {},
   "outputs": [],
   "source": []
  }
 ],
 "metadata": {
  "kernelspec": {
   "display_name": "Python 3",
   "language": "python",
   "name": "python3"
  },
  "language_info": {
   "codemirror_mode": {
    "name": "ipython",
    "version": 3
   },
   "file_extension": ".py",
   "mimetype": "text/x-python",
   "name": "python",
   "nbconvert_exporter": "python",
   "pygments_lexer": "ipython3",
   "version": "3.6.12"
  }
 },
 "nbformat": 4,
 "nbformat_minor": 4
}
