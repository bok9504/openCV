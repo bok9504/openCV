{
 "cells": [
  {
   "cell_type": "code",
   "execution_count": 1,
   "metadata": {},
   "outputs": [],
   "source": [
    "import numpy as np\n",
    "import cv2\n",
    "from random import shuffle\n",
    "import math"
   ]
  },
  {
   "cell_type": "markdown",
   "metadata": {},
   "source": [
    "## 1) 도형 그리기"
   ]
  },
  {
   "cell_type": "code",
   "execution_count": 2,
   "metadata": {},
   "outputs": [],
   "source": [
    "def drawing():\n",
    "    img = np.zeros((512, 512, 3), np.uint8) # 도형을 그리기위한 공간 생성 (512,512크기에 색깔은 검정(0,0,0))\n",
    "    \n",
    "    # 다양한 색상과 선두께를 가진 도형 그리기\n",
    "    cv2.line(img, (0,0), (511, 511), (255, 0, 0), 5) # 직선 -> 그림판, 시작점, 끝점, 선색상, 선굵기\n",
    "    cv2.rectangle(img, (384, 0), (510, 128), (0, 255, 0), 3) # 사각형 -> 그림판, 좌측상단꼭지점, 우측하단꼭지점, 선색상, 선굵기\n",
    "    cv2.circle(img, (447, 63), 63, (0, 0, 255), -1) # 원 -> 그림판, 원중심, 원반지름, 선색상, 색상채움여부 1 or -1\n",
    "    cv2.ellipse(img, (256, 256), (100, 50), 0, 0, 180, (255, 0, 0), -1) \n",
    "    # 타원 -> 그림판, 타원중심, 장축과 단축의 1/2 길이, 타원기울기각도, 타원호의 시작각도, 타원호의 끝각도, 색상, 색상채움여부\n",
    "    \n",
    "    font = cv2.FONT_HERSHEY_SIMPLEX\n",
    "    cv2.putText(img, 'OpenCV', (10, 500), font, 4, (255, 255, 255), 2) \n",
    "    # 글자 입력 -> 그림판, 입력글자, 위치, 폰트, 폰트크기, 색상, 글자굵기\n",
    "    \n",
    "    cv2.imshow('drawing', img)\n",
    "    cv2.waitKey(0)\n",
    "    cv2.destroyAllWindows()\n",
    "    \n",
    "drawing()"
   ]
  },
  {
   "cell_type": "markdown",
   "metadata": {},
   "source": [
    "## 2) 마우스로 도형 그리기"
   ]
  },
  {
   "cell_type": "code",
   "execution_count": 3,
   "metadata": {},
   "outputs": [],
   "source": [
    "b = [i for i in range(256)] # 색상 랜덤 추출\n",
    "g = [i for i in range(256)]\n",
    "r = [i for i in range(256)]\n",
    "\n",
    "# 마우스 이벤트처리 콜백함수\n",
    "def onMouse(event, x, y, flags, param): # 마우스 이벤트, 마우스 이벤트 좌표, 플레그(사용x), cv2.setMouseCallback에서 전달받은 데이터\n",
    "    if event == cv2.EVENT_LBUTTONDBLCLK: # 마우스 왼쪽버튼 더블클릭 이벤트\n",
    "        shuffle(b), shuffle(g), shuffle(r)\n",
    "        cv2.circle(param, (x,y), 50, (b[0], g[0], r[0]), -1)\n",
    "        \n",
    "def mouseBrush():\n",
    "    img = np.zeros((512, 512, 3), np.uint8)\n",
    "    cv2.namedWindow('paint') # 윈도우창 생성\n",
    "    cv2.setMouseCallback('paint', onMouse, param=img) # 마우스 콜백함수 생성\n",
    "    \n",
    "    while True:\n",
    "        cv2.imshow('paint', img)\n",
    "        k = cv2.waitKey(1) & 0xFF\n",
    "        \n",
    "        if k == 27:\n",
    "            break\n",
    "            \n",
    "    cv2.destroyAllWindows()\n",
    "    \n",
    "mouseBrush()"
   ]
  },
  {
   "cell_type": "code",
   "execution_count": 4,
   "metadata": {},
   "outputs": [],
   "source": [
    "mode, drawing = True, False # mode : 원, 직사각형 토글 스위치, drawing : 마우스 클릭 여부에 따른 그림 그려지는 여부\n",
    "ix, iy = -1, -1 # 마우스 클릭지점 변수\n",
    "B = [i for i in range(256)] # 색상 랜덤 추출\n",
    "G = [i for i in range(256)]\n",
    "R = [i for i in range(256)]\n",
    "\n",
    "def onMouse(event, x, y, flags, param):\n",
    "    global ix, iy, drawing, mode, B, G, R\n",
    "    \n",
    "    if event == cv2.EVENT_LBUTTONDOWN: # 마우스 누른 상태\n",
    "        drawing = True\n",
    "        ix, iy = x, y\n",
    "        shuffle(B), shuffle(G), shuffle(R)\n",
    "        \n",
    "    elif event == cv2.EVENT_MOUSEMOVE: # 마우스 이동\n",
    "        if drawing:\n",
    "            if mode:\n",
    "                cv2.rectangle(param, (ix, iy), (x, y), (B[0], G[0], R[0]), -1)\n",
    "            else:\n",
    "                r = (ix-x)**2 + (iy-y)**2\n",
    "                r = int(math.sqrt(r))\n",
    "                cv2.circle(param, (ix, iy), r, (B[0], G[0], R[0]), -1)\n",
    "                \n",
    "    elif event == cv2.EVENT_LBUTTONUP: # 마우스 땔 때\n",
    "        drawing = False\n",
    "        if mode:\n",
    "            cv2.rectangle(param, (ix, iy), (x, y), (B[0], G[0], R[0]), -1)\n",
    "        else:\n",
    "            r = (ix-x)**2 + (iy-y)**2\n",
    "            r = int(math.sqrt(r))\n",
    "            cv2.circle(param, (ix, iy), r, (B[0], G[0], R[0]), -1)\n",
    "            \n",
    "def mouseBrush():\n",
    "    global mode\n",
    "    \n",
    "    img = np.zeros((512, 512, 3), np.uint8)\n",
    "    cv2.namedWindow('paint')\n",
    "    cv2.setMouseCallback('paint', onMouse, param=img)\n",
    "    \n",
    "    while True:\n",
    "        cv2.imshow('paint', img)\n",
    "        k = cv2.waitKey(1) & 0xFF\n",
    "        \n",
    "        if k == 27:\n",
    "            break\n",
    "        elif k == ord('m'):\n",
    "            mode = not mode\n",
    "            \n",
    "    cv2.destroyAllWindows()\n",
    "    \n",
    "mouseBrush()\n",
    "        "
   ]
  },
  {
   "cell_type": "markdown",
   "metadata": {},
   "source": [
    "## 3) 트랙바 활용"
   ]
  },
  {
   "cell_type": "code",
   "execution_count": 5,
   "metadata": {},
   "outputs": [],
   "source": [
    "def onChange(x): # 트랙바 이벤트 처리용 콜백 함수\n",
    "    pass         # 트랙바 이용시 처리할 이벤트가 없음으로 그냥 pass\n",
    "\n",
    "def trackbar():\n",
    "    img = np.zeros((200,512,3), np.uint8)\n",
    "    cv2.namedWindow('color_palette')\n",
    "    \n",
    "    cv2.createTrackbar('B', 'color_palette', 0, 255, onChange) # 0 부터 255 값을 가지는 트랙바 생성\n",
    "    cv2.createTrackbar('G', 'color_palette', 0, 255, onChange)\n",
    "    cv2.createTrackbar('R', 'color_palette', 0, 255, onChange)\n",
    "    \n",
    "    switch = '0: OFF\\n1: ON'\n",
    "    cv2.createTrackbar(switch, 'color_palette', 0, 1, onChange) # 스위치 생성\n",
    "    \n",
    "    while True:\n",
    "        cv2.imshow('color_palette', img)\n",
    "        k = cv2.waitKey(1) & 0xFF\n",
    "        \n",
    "        if k == 27:\n",
    "            break\n",
    "            \n",
    "        b = cv2.getTrackbarPos('B', 'color_palette') # 각 트랙바의 위치에 따른 값 입력\n",
    "        g = cv2.getTrackbarPos('G', 'color_palette')\n",
    "        r = cv2.getTrackbarPos('R', 'color_palette')\n",
    "        s = cv2.getTrackbarPos(switch, 'color_palette')\n",
    "        \n",
    "        if s == 0:\n",
    "            img[:] = 0 # \n",
    "        else:\n",
    "            img[:] = [b, g, r]\n",
    "            \n",
    "    cv2.destroyAllWindows()\n",
    "    \n",
    "trackbar()"
   ]
  },
  {
   "cell_type": "code",
   "execution_count": null,
   "metadata": {},
   "outputs": [],
   "source": []
  }
 ],
 "metadata": {
  "kernelspec": {
   "display_name": "Python 3",
   "language": "python",
   "name": "python3"
  },
  "language_info": {
   "codemirror_mode": {
    "name": "ipython",
    "version": 3
   },
   "file_extension": ".py",
   "mimetype": "text/x-python",
   "name": "python",
   "nbconvert_exporter": "python",
   "pygments_lexer": "ipython3",
   "version": "3.6.12"
  }
 },
 "nbformat": 4,
 "nbformat_minor": 4
}
