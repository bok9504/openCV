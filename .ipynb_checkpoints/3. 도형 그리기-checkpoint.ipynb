{
 "cells": [
  {
   "cell_type": "code",
   "execution_count": 2,
   "metadata": {},
   "outputs": [],
   "source": [
    "import numpy as np\n",
    "import cv2"
   ]
  },
  {
   "cell_type": "code",
   "execution_count": 6,
   "metadata": {},
   "outputs": [],
   "source": [
    "def drawing():\n",
    "    img = np.zeros((512, 512, 3), np.uint8) # 도형을 그리기위한 공간 생성 (512,512크기에 색깔은 검정(0,0,0))\n",
    "    \n",
    "    # 다양한 색상과 선두께를 가진 도형 그리기\n",
    "    cv2.line(img, (0,0), (511, 511), (255, 0, 0), 5) # 직선 -> 그림판, 시작점, 끝점, 선색상, 선굵기\n",
    "    cv2.rectangle(img, (384, 0), (510, 128), (0, 255, 0), 3) # 사각형 -> 그림판, 좌측상단꼭지점, 우측하단꼭지점, 선색상, 선굵기\n",
    "    cv2.circle(img, (447, 63), 63, (0, 0, 255), -1) # 원 -> 그림판, 원중심, 원반지름, 선색상, 색상채움여부 1 or -1\n",
    "    cv2.ellipse(img, (256, 256), (100, 50), 0, 0, 180, (255, 0, 0), -1) \n",
    "    # 타원 -> 그림판, 타원중심, 장축과 단축의 1/2 길이, 타원기울기각도, 타원호의 시작각도, 타원호의 끝각도, 색상, 색상채움여부\n",
    "    \n",
    "    font = cv2.FONT_HERSHEY_SIMPLEX\n",
    "    cv2.putText(img, 'OpenCV', (10, 500), font, 4, (255, 255, 255), 2) \n",
    "    # 글자 입력 -> 그림판, 입력글자, 위치, 폰트, 폰트크기, 색상, 글자굵기\n",
    "    \n",
    "    cv2.imshow('drawing', img)\n",
    "    cv2.waitKey(0)\n",
    "    cv2.destroyAllWindows()\n",
    "    \n",
    "drawing()"
   ]
  },
  {
   "cell_type": "code",
   "execution_count": null,
   "metadata": {},
   "outputs": [],
   "source": []
  }
 ],
 "metadata": {
  "kernelspec": {
   "display_name": "Python 3",
   "language": "python",
   "name": "python3"
  },
  "language_info": {
   "codemirror_mode": {
    "name": "ipython",
    "version": 3
   },
   "file_extension": ".py",
   "mimetype": "text/x-python",
   "name": "python",
   "nbconvert_exporter": "python",
   "pygments_lexer": "ipython3",
   "version": "3.6.12"
  }
 },
 "nbformat": 4,
 "nbformat_minor": 4
}
