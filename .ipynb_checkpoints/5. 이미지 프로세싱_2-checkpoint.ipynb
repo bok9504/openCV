{
 "cells": [
  {
   "cell_type": "markdown",
   "metadata": {},
   "source": [
    "# 1. 색공간 변경\n",
    "## 1) BGR2HSV"
   ]
  },
  {
   "cell_type": "markdown",
   "metadata": {},
   "source": [
    "![image](images/HSV.png)"
   ]
  },
  {
   "cell_type": "markdown",
   "metadata": {},
   "source": [
    "### 색상, 채도, 진하기 각각 변화에 따른 값을 추출하기 위해 HSV 사용\n",
    "#### - Hue(색상) : 원주 방향 각도 [0, 179]\n",
    "#### - Saturation(채도) : 원의 중심에서 바깥으로 변화 [0, 255]\n",
    "#### - Value(진하기) : 원기둥 바닥에서 위쪽으로 변화 [0, 255]"
   ]
  },
  {
   "cell_type": "code",
   "execution_count": 1,
   "metadata": {},
   "outputs": [],
   "source": [
    "import numpy as np\n",
    "import cv2"
   ]
  },
  {
   "cell_type": "code",
   "execution_count": 3,
   "metadata": {},
   "outputs": [
    {
     "name": "stdout",
     "output_type": "stream",
     "text": [
      "HSV for Blue :  [[[120 255 255]]]\n",
      "HSV for Green :  [[[ 60 255 255]]]\n",
      "HSV for Red :  [[[  0 255 255]]]\n"
     ]
    }
   ],
   "source": [
    "# BGR를 hsv로 바꾸어주는 함수\n",
    "# 밑의 예제는 색깔만 바뀌기 때문에 채도와 진하기는 변함없이 255 임을 확인\n",
    "\n",
    "def hsv():\n",
    "    blue = np.uint8([[[255, 0, 0]]])\n",
    "    green = np.uint8([[[0, 255, 0]]])\n",
    "    red = np.uint8([[[0, 0, 255]]])\n",
    "    \n",
    "    hsv_blue = cv2.cvtColor(blue, cv2.COLOR_BGR2HSV) # 컬러 변환 코드(뒤에 어떤 매개변수를 붙이느냐에 따라 변함)\n",
    "    hsv_green = cv2.cvtColor(green, cv2.COLOR_BGR2HSV)\n",
    "    hsv_red = cv2.cvtColor(red, cv2.COLOR_BGR2HSV)\n",
    "    \n",
    "    print('HSV for Blue : ', hsv_blue)\n",
    "    print('HSV for Green : ', hsv_green)\n",
    "    print('HSV for Red : ', hsv_red)\n",
    "    \n",
    "hsv()"
   ]
  },
  {
   "cell_type": "code",
   "execution_count": 5,
   "metadata": {},
   "outputs": [
    {
     "name": "stdout",
     "output_type": "stream",
     "text": [
      "카메라를 구동합니다.\n"
     ]
    }
   ],
   "source": [
    "def tracking():\n",
    "    try:\n",
    "        print('카메라를 구동합니다.')\n",
    "        cap = cv2.VideoCapture(0)\n",
    "    except:\n",
    "        print('카메라 구동 실패')\n",
    "        return\n",
    "    \n",
    "    while True:\n",
    "        ret, frame = cap.read()\n",
    "        \n",
    "        # BGR을 HSV모드로 전환\n",
    "        hsv = cv2.cvtColor(frame, cv2.COLOR_BGR2HSV)\n",
    "        \n",
    "        # HSV에서 BGR로 가정할 범위를 정의\n",
    "        lower_blue = np.array([110, 100, 100])\n",
    "        upper_blue = np.array([130, 255, 255])\n",
    "        \n",
    "        lower_green = np.array([50, 100, 100])\n",
    "        upper_green = np.array([70, 255, 255])\n",
    "        \n",
    "        lower_red = np.array([-10, 100, 100])\n",
    "        upper_red = np.array([10, 255, 255])\n",
    "        \n",
    "        # HSV 이미지에서 청색, 초록, 빨강만 추출하기 위한 임계값\n",
    "        mask_blue = cv2.inRange(hsv, lower_blue, upper_blue) # 임계값 범위에 해당하는 값은 그대로, 나머지는 0으로 반환\n",
    "        mask_green = cv2.inRange(hsv, lower_green, upper_green) # -> 소스, 아래임계값, 위임계값\n",
    "        mask_red = cv2.inRange(hsv, lower_red, upper_red)\n",
    "        \n",
    "        # mask와 원본 이미지를 비트 연산\n",
    "        res1 = cv2.bitwise_and(frame, frame, mask=mask_blue)\n",
    "        res2 = cv2.bitwise_and(frame, frame, mask=mask_green)\n",
    "        res3 = cv2.bitwise_and(frame, frame, mask=mask_red)\n",
    "        \n",
    "        cv2.imshow('original', frame)\n",
    "        cv2.imshow('BLUE', res1)\n",
    "        cv2.imshow('GREEN', res2)\n",
    "        cv2.imshow('RED', res3)\n",
    "        \n",
    "        k = cv2.waitKey(1) & 0xFF\n",
    "        if k == 27:\n",
    "            break\n",
    "            \n",
    "    cv2.destroyAllWindows()\n",
    "    \n",
    "tracking()"
   ]
  },
  {
   "cell_type": "code",
   "execution_count": null,
   "metadata": {},
   "outputs": [],
   "source": []
  }
 ],
 "metadata": {
  "kernelspec": {
   "display_name": "Python 3",
   "language": "python",
   "name": "python3"
  },
  "language_info": {
   "codemirror_mode": {
    "name": "ipython",
    "version": 3
   },
   "file_extension": ".py",
   "mimetype": "text/x-python",
   "name": "python",
   "nbconvert_exporter": "python",
   "pygments_lexer": "ipython3",
   "version": "3.6.12"
  }
 },
 "nbformat": 4,
 "nbformat_minor": 4
}
