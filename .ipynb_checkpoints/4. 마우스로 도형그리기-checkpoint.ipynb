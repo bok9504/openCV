{
 "cells": [
  {
   "cell_type": "code",
   "execution_count": 8,
   "metadata": {},
   "outputs": [],
   "source": [
    "import numpy as np\n",
    "import cv2\n",
    "from random import shuffle\n",
    "import math"
   ]
  },
  {
   "cell_type": "code",
   "execution_count": 5,
   "metadata": {},
   "outputs": [],
   "source": [
    "b = [i for i in range(256)] # 색상 랜덤 추출\n",
    "g = [i for i in range(256)]\n",
    "r = [i for i in range(256)]\n",
    "\n",
    "# 마우스 이벤트처리 콜백함수\n",
    "def onMouse(event, x, y, flags, param): # 마우스 이벤트, 마우스 이벤트 좌표, 플레그(사용x), cv2.setMouseCallback에서 전달받은 데이터\n",
    "    if event == cv2.EVENT_LBUTTONDBLCLK: # 마우스 왼쪽버튼 더블클릭 이벤트\n",
    "        shuffle(b), shuffle(g), shuffle(r)\n",
    "        cv2.circle(param, (x,y), 50, (b[0], g[0], r[0]), -1)\n",
    "        \n",
    "def mouseBrush():\n",
    "    img = np.zeros((512, 512, 3), np.uint8)\n",
    "    cv2.namedWindow('paint') # 윈도우창 생성\n",
    "    cv2.setMouseCallback('paint', onMouse, param=img) # 마우스 콜백함수 생성\n",
    "    \n",
    "    while True:\n",
    "        cv2.imshow('paint', img)\n",
    "        k = cv2.waitKey(1) & 0xFF\n",
    "        \n",
    "        if k == 27:\n",
    "            break\n",
    "            \n",
    "    cv2.destroyAllWindows()\n",
    "    \n",
    "mouseBrush()"
   ]
  },
  {
   "cell_type": "code",
   "execution_count": 14,
   "metadata": {},
   "outputs": [],
   "source": [
    "mode, drawing = True, False # mode : 원, 직사각형 토글 스위치, drawing : 마우스 클릭 여부에 따른 그림 그려지는 여부\n",
    "ix, iy = -1, -1 # 마우스 클릭지점 변수\n",
    "B = [i for i in range(256)] # 색상 랜덤 추출\n",
    "G = [i for i in range(256)]\n",
    "R = [i for i in range(256)]\n",
    "\n",
    "def onMouse(event, x, y, flags, param):\n",
    "    global ix, iy, drawing, mode, B, G, R\n",
    "    \n",
    "    if event == cv2.EVENT_LBUTTONDOWN: # 마우스 누른 상태\n",
    "        drawing = True\n",
    "        ix, iy = x, y\n",
    "        shuffle(B), shuffle(G), shuffle(R)\n",
    "        \n",
    "    elif event == cv2.EVENT_MOUSEMOVE: # 마우스 이동\n",
    "        if drawing:\n",
    "            if mode:\n",
    "                cv2.rectangle(param, (ix, iy), (x, y), (B[0], G[0], R[0]), -1)\n",
    "            else:\n",
    "                r = (ix-x)**2 + (iy-y)**2\n",
    "                r = int(math.sqrt(r))\n",
    "                cv2.circle(param, (ix, iy), r, (B[0], G[0], R[0]), -1)\n",
    "                \n",
    "    elif event == cv2.EVENT_LBUTTONUP: # 마우스 땔 때\n",
    "        drawing = False\n",
    "        if mode:\n",
    "            cv2.rectangle(param, (ix, iy), (x, y), (B[0], G[0], R[0]), -1)\n",
    "        else:\n",
    "            r = (ix-x)**2 + (iy-y)**2\n",
    "            r = int(math.sqrt(r))\n",
    "            cv2.circle(param, (ix, iy), r, (B[0], G[0], R[0]), -1)\n",
    "            \n",
    "def mouseBrush():\n",
    "    global mode\n",
    "    \n",
    "    img = np.zeros((512, 512, 3), np.uint8)\n",
    "    cv2.namedWindow('paint')\n",
    "    cv2.setMouseCallback('paint', onMouse, param=img)\n",
    "    \n",
    "    while True:\n",
    "        cv2.imshow('paint', img)\n",
    "        k = cv2.waitKey(1) & 0xFF\n",
    "        \n",
    "        if k == 27:\n",
    "            break\n",
    "        elif k == ord('m'):\n",
    "            mode = not mode\n",
    "            \n",
    "    cv2.destroyAllWindows()\n",
    "    \n",
    "mouseBrush()\n",
    "        "
   ]
  },
  {
   "cell_type": "code",
   "execution_count": null,
   "metadata": {},
   "outputs": [],
   "source": []
  }
 ],
 "metadata": {
  "kernelspec": {
   "display_name": "Python 3",
   "language": "python",
   "name": "python3"
  },
  "language_info": {
   "codemirror_mode": {
    "name": "ipython",
    "version": 3
   },
   "file_extension": ".py",
   "mimetype": "text/x-python",
   "name": "python",
   "nbconvert_exporter": "python",
   "pygments_lexer": "ipython3",
   "version": "3.6.12"
  }
 },
 "nbformat": 4,
 "nbformat_minor": 4
}
