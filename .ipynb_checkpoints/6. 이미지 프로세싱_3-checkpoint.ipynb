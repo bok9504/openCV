{
 "cells": [
  {
   "cell_type": "markdown",
   "metadata": {},
   "source": [
    "## 1. 이미지 변환"
   ]
  },
  {
   "cell_type": "code",
   "execution_count": 1,
   "metadata": {},
   "outputs": [],
   "source": [
    "import numpy as np\n",
    "import cv2"
   ]
  },
  {
   "cell_type": "code",
   "execution_count": 2,
   "metadata": {},
   "outputs": [],
   "source": [
    "# 이미지 사이즈 조정\n",
    "\n",
    "def transform():\n",
    "    img = cv2.imread('images/movie_image.jpg')\n",
    "    h, w = img.shape[:2]\n",
    "    \n",
    "    img2 = cv2.resize(img, None, fx=0.5, fy=1, interpolation=cv2.INTER_AREA)\n",
    "    img3 = cv2.resize(img, None, fx=1, fy=0.5, interpolation=cv2.INTER_AREA)\n",
    "    img4 = cv2.resize(img, None, fx=0.5, fy=0.5, interpolation=cv2.INTER_AREA)\n",
    "    \n",
    "    cv2.imshow('original', img)\n",
    "    cv2.imshow('fx=0.5', img2)\n",
    "    cv2.imshow('fy=0.5', img3)\n",
    "    cv2.imshow('fx=0.5, fy=0.5', img4)\n",
    "    \n",
    "    cv2.waitKey(0)\n",
    "    cv2.destroyAllWindows()\n",
    "    \n",
    "transform()"
   ]
  },
  {
   "cell_type": "code",
   "execution_count": 4,
   "metadata": {},
   "outputs": [],
   "source": [
    "# 이미지 이동\n",
    "\n",
    "def transform():\n",
    "    img = cv2.imread('images/model.png')\n",
    "    h, w = img.shape[:2]\n",
    "    \n",
    "    M = np.float32([[1, 0, 100], [0, 1, 50]])\n",
    "    \n",
    "    img2 = cv2.warpAffine(img, M, (w,h))\n",
    "    cv2.imshow('shift image', img2)\n",
    "    \n",
    "    cv2.waitKey(0)\n",
    "    cv2.destroyAllWindows()\n",
    "    \n",
    "transform()"
   ]
  },
  {
   "cell_type": "code",
   "execution_count": 5,
   "metadata": {},
   "outputs": [],
   "source": [
    "# 이미지 회전\n",
    "\n",
    "def transform():\n",
    "    img = cv2.imread('images/model.png')\n",
    "    h, w = img.shape[:2]\n",
    "    \n",
    "    M1 = cv2.getRotationMatrix2D((w/2, h/2), 45, 1)\n",
    "    M2 = cv2.getRotationMatrix2D((w/2, h/2), 90, 1)\n",
    "    \n",
    "    img2 = cv2.warpAffine(img, M1, (w,h))\n",
    "    img3 = cv2.warpAffine(img, M2, (w,h))\n",
    "    \n",
    "    cv2.imshow('45-Rotated', img2)\n",
    "    cv2.imshow('90-Rotated', img3)\n",
    "    \n",
    "    cv2.waitKey(0)\n",
    "    cv2.destroyAllWindows()\n",
    "    \n",
    "transform()"
   ]
  },
  {
   "cell_type": "code",
   "execution_count": 6,
   "metadata": {},
   "outputs": [],
   "source": [
    "# 이미지 원근 보정\n",
    "\n",
    "def transform():\n",
    "    img = cv2.imread('images/model.png')\n",
    "    h, w = img.shape[:2]\n",
    "    \n",
    "    pts1 = np.float32([[50,50], [200,50], [20,200]])\n",
    "    pts2 = np.float32([[10,100], [200, 50], [100, 250]])\n",
    "    \n",
    "    M = cv2.getAffineTransform(pts1, pts2)\n",
    "    \n",
    "    img2 = cv2.warpAffine(img, M, (w,h))\n",
    "    \n",
    "    cv2.imshow('original', img)\n",
    "    cv2.imshow('Affine-Transform', img2)\n",
    "    \n",
    "    cv2.waitKey(0)\n",
    "    cv2.destroyAllWindows()\n",
    "    \n",
    "transform()    "
   ]
  },
  {
   "cell_type": "code",
   "execution_count": 14,
   "metadata": {},
   "outputs": [],
   "source": [
    "def transform():\n",
    "    img = cv2.imread('images/model.png')\n",
    "    h, w = img.shape[:2]\n",
    "    \n",
    "    pts1 = np.float32([[0,0], [300, 0], [0, 300], [300,300]])\n",
    "    pts2 = np.float32([[56,65], [368, 52], [28, 387], [389,390]])\n",
    "    \n",
    "    M = cv2.getPerspectiveTransform(pts1, pts2)\n",
    "    \n",
    "    img2 = cv2.warpPerspective(img, M, (w,h))\n",
    "    \n",
    "    cv2.imshow('original', img)\n",
    "    cv2.imshow('Perspective-Transform', img2)\n",
    "    \n",
    "    cv2.waitKey(0)\n",
    "    cv2.destroyAllWindows()\n",
    "    \n",
    "transform()"
   ]
  },
  {
   "cell_type": "markdown",
   "metadata": {},
   "source": [
    "## 2. 이미지 블러"
   ]
  },
  {
   "cell_type": "code",
   "execution_count": 15,
   "metadata": {},
   "outputs": [],
   "source": [
    "def bluring():\n",
    "    img = cv2.imread('images/model.png')\n",
    "    \n",
    "    kernel = np.ones((5,5), np.float32)/25\n",
    "    blur = cv2.filter2D(img, -1, kernel)\n",
    "    \n",
    "    cv2.imshow('original', img)\n",
    "    cv2.imshow('blur', blur)\n",
    "    \n",
    "    cv2.waitKey(0)\n",
    "    cv2.destroyAllWindows()\n",
    "    \n",
    "bluring()"
   ]
  },
  {
   "cell_type": "code",
   "execution_count": 19,
   "metadata": {},
   "outputs": [],
   "source": [
    "def onMouse(x):\n",
    "    pass\n",
    "\n",
    "def bluring():\n",
    "    img = cv2.imread('images/model.png')\n",
    "    \n",
    "    cv2.namedWindow('BlurPane')\n",
    "    cv2.createTrackbar('BLUR_MODE', 'BlurPane', 0, 2, onMouse)\n",
    "    cv2.createTrackbar('BLUR', 'BlurPane', 0, 5, onMouse)\n",
    "    \n",
    "    mode = cv2.getTrackbarPos('BLUR_MODE', 'BlurPane')\n",
    "    val = cv2.getTrackbarPos('BLUR', 'BlurPane')\n",
    "    \n",
    "    while True:\n",
    "        val = val*2 + 1\n",
    "        \n",
    "        try:\n",
    "            if mode == 0:\n",
    "                blur = cv2.blur(img, (val, val)) # val -> 블러처리할 커널 사이즈\n",
    "            elif mode == 1:\n",
    "                blur = cv2.GaussianBlur(img, (val, val), 0) # 가우스 노이즈 제거에 특화(edge 보존이 안됨)\n",
    "            elif mode == 2:\n",
    "                blur = cv2.medianBlur(img, val) # 소금후추 노이즈 제거 특화\n",
    "            else:\n",
    "                break\n",
    "                \n",
    "            cv2.imshow('BlurPane', blur)\n",
    "        except:\n",
    "            break\n",
    "            \n",
    "        k = cv2.waitKey(1) & 0xFF\n",
    "        if k == 27:\n",
    "            break\n",
    "            \n",
    "        mode = cv2.getTrackbarPos('BLUR_MODE', 'BlurPane')\n",
    "        val = cv2.getTrackbarPos('BLUR', 'BlurPane')\n",
    "        \n",
    "    cv2.destroyAllWindows()\n",
    "    \n",
    "bluring()"
   ]
  },
  {
   "cell_type": "markdown",
   "metadata": {},
   "source": [
    "## 3. 이미지 Erosion & Dilation"
   ]
  },
  {
   "cell_type": "markdown",
   "metadata": {},
   "source": [
    "![image](images/Erosion_1.PNG)\n",
    "![image](images/Erosion_2.PNG)"
   ]
  },
  {
   "cell_type": "code",
   "execution_count": 25,
   "metadata": {},
   "outputs": [],
   "source": [
    "def morph():\n",
    "    img = cv2.imread('images/word.PNG', cv2.IMREAD_GRAYSCALE)\n",
    "    \n",
    "    kernel = np.ones((3,3), np.uint8)\n",
    "\n",
    "    erosion = cv2.erode(img, kernel, iterations=1)\n",
    "    dilation = cv2.dilate(img, kernel, iterations=1)\n",
    "    \n",
    "    cv2.imshow('original', img)\n",
    "    cv2.imshow('ersoion', erosion)\n",
    "    cv2.imshow('dilation', dilation)\n",
    "    \n",
    "    cv2.waitKey(0)\n",
    "    cv2.destroyAllWindows()\n",
    "    \n",
    "morph()"
   ]
  },
  {
   "cell_type": "code",
   "execution_count": 30,
   "metadata": {},
   "outputs": [],
   "source": [
    "# opening : erosion을 수행 이후 dilation를 곧바로 수행\n",
    "# closing : dilation을 수행 이후 erosion를 곧바로 수행\n",
    "\n",
    "def morph():\n",
    "    img1 = cv2.imread('images/opening.PNG', cv2.IMREAD_GRAYSCALE)\n",
    "    img2 = cv2.imread('images/closing.PNG', cv2.IMREAD_GRAYSCALE)\n",
    "    \n",
    "    kernel = np.ones((5,5), np.uint8)\n",
    "    \n",
    "    opening = cv2.morphologyEx(img1, cv2.MORPH_OPEN, kernel) # opening\n",
    "    closing = cv2.morphologyEx(img2, cv2.MORPH_CLOSE, kernel) # closing\n",
    "    \n",
    "    cv2.imshow('opening', opening)\n",
    "    cv2.imshow('closing', closing)\n",
    "    \n",
    "    cv2.waitKey(0)\n",
    "    cv2.destroyAllWindows()\n",
    "    \n",
    "morph()"
   ]
  },
  {
   "cell_type": "code",
   "execution_count": 32,
   "metadata": {},
   "outputs": [],
   "source": [
    "# GRADIENT : Dilation 이미지와 Erosion 이미지의 차이\n",
    "# TOPHAT : 원본이미지와 opening한 이미지의 차이\n",
    "# BLACKHAT : closing한 이미지와 원본이미지의 차이\n",
    "\n",
    "def morph():\n",
    "    img1 = cv2.imread('images/word.PNG', cv2.IMREAD_GRAYSCALE)\n",
    "    img2 = cv2.imread('images/opening.PNG', cv2.IMREAD_GRAYSCALE)\n",
    "    img3 = cv2.imread('images/closing.PNG', cv2.IMREAD_GRAYSCALE)\n",
    "    \n",
    "    kernel = np.ones((3,3), np.uint8)\n",
    "    \n",
    "    grad = cv2.morphologyEx(img1, cv2.MORPH_GRADIENT, kernel)\n",
    "    tophat = cv2.morphologyEx(img2, cv2.MORPH_TOPHAT, kernel)\n",
    "    blackhat = cv2.morphologyEx(img3, cv2.MORPH_BLACKHAT, kernel)\n",
    "    \n",
    "    cv2.imshow('grad', grad)\n",
    "    cv2.imshow('tophat', tophat)\n",
    "    cv2.imshow('blackhat', blackhat)\n",
    "    \n",
    "    cv2.waitKey(0)\n",
    "    cv2.destroyAllWindows()\n",
    "    \n",
    "morph()"
   ]
  },
  {
   "cell_type": "markdown",
   "metadata": {},
   "source": [
    "## 3. 커널 매트릭스 생산"
   ]
  },
  {
   "cell_type": "code",
   "execution_count": 34,
   "metadata": {},
   "outputs": [
    {
     "name": "stdout",
     "output_type": "stream",
     "text": [
      "[[1 1 1 1 1]\n",
      " [1 1 1 1 1]\n",
      " [1 1 1 1 1]\n",
      " [1 1 1 1 1]\n",
      " [1 1 1 1 1]]\n",
      "[[0 0 1 0 0]\n",
      " [1 1 1 1 1]\n",
      " [1 1 1 1 1]\n",
      " [1 1 1 1 1]\n",
      " [0 0 1 0 0]]\n",
      "[[0 0 1 0 0]\n",
      " [0 0 1 0 0]\n",
      " [1 1 1 1 1]\n",
      " [0 0 1 0 0]\n",
      " [0 0 1 0 0]]\n"
     ]
    }
   ],
   "source": [
    "def makeKernel():\n",
    "    M1 = cv2.getStructuringElement(cv2.MORPH_RECT, (5, 5))\n",
    "    M2 = cv2.getStructuringElement(cv2.MORPH_ELLIPSE, (5, 5))\n",
    "    M3 = cv2.getStructuringElement(cv2.MORPH_CROSS, (5, 5))\n",
    "    \n",
    "    print(M1)\n",
    "    print(M2)\n",
    "    print(M3)\n",
    "    \n",
    "makeKernel()"
   ]
  },
  {
   "cell_type": "code",
   "execution_count": null,
   "metadata": {},
   "outputs": [],
   "source": []
  }
 ],
 "metadata": {
  "kernelspec": {
   "display_name": "Python 3",
   "language": "python",
   "name": "python3"
  },
  "language_info": {
   "codemirror_mode": {
    "name": "ipython",
    "version": 3
   },
   "file_extension": ".py",
   "mimetype": "text/x-python",
   "name": "python",
   "nbconvert_exporter": "python",
   "pygments_lexer": "ipython3",
   "version": "3.6.12"
  }
 },
 "nbformat": 4,
 "nbformat_minor": 4
}
